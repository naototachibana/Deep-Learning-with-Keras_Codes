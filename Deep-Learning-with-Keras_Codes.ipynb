{
  "nbformat": 4,
  "nbformat_minor": 0,
  "metadata": {
    "colab": {
      "name": "Deep-Learning-with-Keras_Codes.ipynb",
      "version": "0.3.2",
      "provenance": []
    },
    "kernelspec": {
      "name": "python3",
      "display_name": "Python 3"
    }
  },
  "cells": [
    {
      "cell_type": "markdown",
      "metadata": {
        "id": "AXvADwDC0iBO",
        "colab_type": "text"
      },
      "source": [
        "Import Pacages"
      ]
    },
    {
      "cell_type": "code",
      "metadata": {
        "id": "dG1qcKxM0iBW",
        "colab_type": "code",
        "colab": {
          "base_uri": "https://localhost:8080/",
          "height": 34
        },
        "outputId": "7f61d02c-974d-47c9-a4df-886beecdb4b4"
      },
      "source": [
        "from __future__ import print_function\n",
        "import numpy as np\n",
        "from keras.datasets import mnist\n",
        "from keras.models import Sequential\n",
        "from keras.layers import Dense, Activation\n",
        "from keras.optimizers import SGD\n",
        "from keras.utils import np_utils"
      ],
      "execution_count": 1,
      "outputs": [
        {
          "output_type": "stream",
          "text": [
            "Using TensorFlow backend.\n"
          ],
          "name": "stderr"
        }
      ]
    },
    {
      "cell_type": "code",
      "metadata": {
        "id": "6jZZ4IKU2OyO",
        "colab_type": "code",
        "colab": {
          "base_uri": "https://localhost:8080/",
          "height": 89
        },
        "outputId": "341f5425-41fd-4653-daf4-49b6a78afe41"
      },
      "source": [
        "# set various parameters\n",
        "np.random.seed(777) #set ramdom seed\n",
        "\n",
        "NB_EPOCH = 200\n",
        "BATCH_SIZE = 128\n",
        "VERBOSE = 1\n",
        "NB_CLASSES = 10\n",
        "OPTIMIZER = SGD()\n",
        "N_HIDDEN = 128\n",
        "VALIDATION_SPLIT = 0.2"
      ],
      "execution_count": 2,
      "outputs": [
        {
          "output_type": "stream",
          "text": [
            "WARNING:tensorflow:From /usr/local/lib/python3.6/dist-packages/tensorflow/python/framework/op_def_library.py:263: colocate_with (from tensorflow.python.framework.ops) is deprecated and will be removed in a future version.\n",
            "Instructions for updating:\n",
            "Colocations handled automatically by placer.\n"
          ],
          "name": "stdout"
        }
      ]
    },
    {
      "cell_type": "code",
      "metadata": {
        "id": "u7zJlXnJ4DDg",
        "colab_type": "code",
        "colab": {}
      },
      "source": [
        "# data: shuffled and split between train\n",
        "(x_train, y_train), (x_test, y_test) = mnist.load_data()\n",
        "\n",
        "# data: shuffled and split between train and test sets\n",
        "#\n",
        "(X_train, y_train), (X_test, y_test) = mnist.load_data()"
      ],
      "execution_count": 0,
      "outputs": []
    },
    {
      "cell_type": "code",
      "metadata": {
        "id": "cE7w8FeE7A7W",
        "colab_type": "code",
        "colab": {}
      },
      "source": [
        "# X_train is 60000 rows of 28x28 values --> reshaped in 60000 x 784\n",
        "RESHAPED = 784\n",
        "#\n",
        "X_train = X_train.reshape(60000, RESHAPED)\n",
        "X_test = X_test.reshape(10000, RESHAPED)\n",
        "X_train = X_train.astype('float32')\n",
        "X_test = X_test.astype('float32')\n",
        "\n",
        "#normalize\n",
        "#np.nonzero を使うと, もともとの ndarray のどこに非ゼロ要素があるか教えてくれる\n",
        "#その位置をしていすることで nonzero_X_train を作って, その平均値で割ることで正規化する\n",
        "\n",
        "nonzero_X_train = X_train[np.nonzero(X_train)]\n",
        "nonzero_X_test = X_test[np.nonzero(X_test)]\n",
        "X_train = ( X_train - nonzero_X_train.mean() )/ nonzero_X_train.var()\n",
        "X_test = ( X_test - nonzero_X_test.mean() )/ nonzero_X_test.var()"
      ],
      "execution_count": 0,
      "outputs": []
    },
    {
      "cell_type": "code",
      "metadata": {
        "id": "Dx8yklAu9fqD",
        "colab_type": "code",
        "colab": {
          "base_uri": "https://localhost:8080/",
          "height": 52
        },
        "outputId": "176a7593-2701-4725-90e0-393fef80cb0b"
      },
      "source": [
        "print (X_train.shape[0], ': number of train samples')\n",
        "print (X_test.shape[0], ': number of test samples')\n",
        "\n",
        "Y_train = np_utils.to_categorical (y_train, NB_CLASSES)\n",
        "Y_test = np_utils.to_categorical (y_test, NB_CLASSES)"
      ],
      "execution_count": 23,
      "outputs": [
        {
          "output_type": "stream",
          "text": [
            "60000 : number of train samples\n",
            "10000 : number of test samples\n"
          ],
          "name": "stdout"
        }
      ]
    },
    {
      "cell_type": "code",
      "metadata": {
        "id": "5ptgxrGu-3Yd",
        "colab_type": "code",
        "colab": {
          "base_uri": "https://localhost:8080/",
          "height": 208
        },
        "outputId": "197c66de-f380-4a94-ff1c-afb7dfa0d0db"
      },
      "source": [
        "# define NN model\n",
        "model = Sequential()\n",
        "model.add (Dense (NB_CLASSES, input_shape = (RESHAPED, )))\n",
        "model.add (Activation ('softmax'))\n",
        "model.summary()"
      ],
      "execution_count": 25,
      "outputs": [
        {
          "output_type": "stream",
          "text": [
            "_________________________________________________________________\n",
            "Layer (type)                 Output Shape              Param #   \n",
            "=================================================================\n",
            "dense_2 (Dense)              (None, 10)                7850      \n",
            "_________________________________________________________________\n",
            "activation_1 (Activation)    (None, 10)                0         \n",
            "=================================================================\n",
            "Total params: 7,850\n",
            "Trainable params: 7,850\n",
            "Non-trainable params: 0\n",
            "_________________________________________________________________\n"
          ],
          "name": "stdout"
        }
      ]
    }
  ]
}